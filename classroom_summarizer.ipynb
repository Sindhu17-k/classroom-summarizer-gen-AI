{
  "nbformat": 4,
  "nbformat_minor": 0,
  "metadata": {
    "colab": {
      "provenance": []
    },
    "kernelspec": {
      "name": "python3",
      "display_name": "Python 3"
    },
    "language_info": {
      "name": "python"
    }
  },
  "cells": [
    {
      "cell_type": "code",
      "execution_count": 1,
      "metadata": {
        "colab": {
          "base_uri": "https://localhost:8080/"
        },
        "id": "CBLAmSofpx0j",
        "outputId": "320e6a16-16d1-47e3-d7fc-30500050d06d"
      },
      "outputs": [
        {
          "output_type": "stream",
          "name": "stdout",
          "text": [
            "Requirement already satisfied: fastapi in /usr/local/lib/python3.11/dist-packages (0.115.12)\n",
            "Requirement already satisfied: pyngrok in /usr/local/lib/python3.11/dist-packages (7.2.11)\n",
            "Requirement already satisfied: uvicorn in /usr/local/lib/python3.11/dist-packages (0.34.3)\n",
            "Requirement already satisfied: PyPDF2 in /usr/local/lib/python3.11/dist-packages (3.0.1)\n",
            "Requirement already satisfied: torch in /usr/local/lib/python3.11/dist-packages (2.6.0+cu124)\n",
            "Requirement already satisfied: networkx in /usr/local/lib/python3.11/dist-packages (3.5)\n",
            "Requirement already satisfied: matplotlib in /usr/local/lib/python3.11/dist-packages (3.10.0)\n",
            "Requirement already satisfied: nest_asyncio in /usr/local/lib/python3.11/dist-packages (1.6.0)\n",
            "Requirement already satisfied: pydantic in /usr/local/lib/python3.11/dist-packages (2.11.5)\n",
            "Requirement already satisfied: sentence_transformers in /usr/local/lib/python3.11/dist-packages (4.1.0)\n",
            "Requirement already satisfied: starlette<0.47.0,>=0.40.0 in /usr/local/lib/python3.11/dist-packages (from fastapi) (0.46.2)\n",
            "Requirement already satisfied: typing-extensions>=4.8.0 in /usr/local/lib/python3.11/dist-packages (from fastapi) (4.14.0)\n",
            "Requirement already satisfied: PyYAML>=5.1 in /usr/local/lib/python3.11/dist-packages (from pyngrok) (6.0.2)\n",
            "Requirement already satisfied: click>=7.0 in /usr/local/lib/python3.11/dist-packages (from uvicorn) (8.2.1)\n",
            "Requirement already satisfied: h11>=0.8 in /usr/local/lib/python3.11/dist-packages (from uvicorn) (0.16.0)\n",
            "Requirement already satisfied: filelock in /usr/local/lib/python3.11/dist-packages (from torch) (3.18.0)\n",
            "Requirement already satisfied: jinja2 in /usr/local/lib/python3.11/dist-packages (from torch) (3.1.6)\n",
            "Requirement already satisfied: fsspec in /usr/local/lib/python3.11/dist-packages (from torch) (2025.3.2)\n",
            "Requirement already satisfied: nvidia-cuda-nvrtc-cu12==12.4.127 in /usr/local/lib/python3.11/dist-packages (from torch) (12.4.127)\n",
            "Requirement already satisfied: nvidia-cuda-runtime-cu12==12.4.127 in /usr/local/lib/python3.11/dist-packages (from torch) (12.4.127)\n",
            "Requirement already satisfied: nvidia-cuda-cupti-cu12==12.4.127 in /usr/local/lib/python3.11/dist-packages (from torch) (12.4.127)\n",
            "Requirement already satisfied: nvidia-cudnn-cu12==9.1.0.70 in /usr/local/lib/python3.11/dist-packages (from torch) (9.1.0.70)\n",
            "Requirement already satisfied: nvidia-cublas-cu12==12.4.5.8 in /usr/local/lib/python3.11/dist-packages (from torch) (12.4.5.8)\n",
            "Requirement already satisfied: nvidia-cufft-cu12==11.2.1.3 in /usr/local/lib/python3.11/dist-packages (from torch) (11.2.1.3)\n",
            "Requirement already satisfied: nvidia-curand-cu12==10.3.5.147 in /usr/local/lib/python3.11/dist-packages (from torch) (10.3.5.147)\n",
            "Requirement already satisfied: nvidia-cusolver-cu12==11.6.1.9 in /usr/local/lib/python3.11/dist-packages (from torch) (11.6.1.9)\n",
            "Requirement already satisfied: nvidia-cusparse-cu12==12.3.1.170 in /usr/local/lib/python3.11/dist-packages (from torch) (12.3.1.170)\n",
            "Requirement already satisfied: nvidia-cusparselt-cu12==0.6.2 in /usr/local/lib/python3.11/dist-packages (from torch) (0.6.2)\n",
            "Requirement already satisfied: nvidia-nccl-cu12==2.21.5 in /usr/local/lib/python3.11/dist-packages (from torch) (2.21.5)\n",
            "Requirement already satisfied: nvidia-nvtx-cu12==12.4.127 in /usr/local/lib/python3.11/dist-packages (from torch) (12.4.127)\n",
            "Requirement already satisfied: nvidia-nvjitlink-cu12==12.4.127 in /usr/local/lib/python3.11/dist-packages (from torch) (12.4.127)\n",
            "Requirement already satisfied: triton==3.2.0 in /usr/local/lib/python3.11/dist-packages (from torch) (3.2.0)\n",
            "Requirement already satisfied: sympy==1.13.1 in /usr/local/lib/python3.11/dist-packages (from torch) (1.13.1)\n",
            "Requirement already satisfied: mpmath<1.4,>=1.1.0 in /usr/local/lib/python3.11/dist-packages (from sympy==1.13.1->torch) (1.3.0)\n",
            "Requirement already satisfied: contourpy>=1.0.1 in /usr/local/lib/python3.11/dist-packages (from matplotlib) (1.3.2)\n",
            "Requirement already satisfied: cycler>=0.10 in /usr/local/lib/python3.11/dist-packages (from matplotlib) (0.12.1)\n",
            "Requirement already satisfied: fonttools>=4.22.0 in /usr/local/lib/python3.11/dist-packages (from matplotlib) (4.58.2)\n",
            "Requirement already satisfied: kiwisolver>=1.3.1 in /usr/local/lib/python3.11/dist-packages (from matplotlib) (1.4.8)\n",
            "Requirement already satisfied: numpy>=1.23 in /usr/local/lib/python3.11/dist-packages (from matplotlib) (2.0.2)\n",
            "Requirement already satisfied: packaging>=20.0 in /usr/local/lib/python3.11/dist-packages (from matplotlib) (24.2)\n",
            "Requirement already satisfied: pillow>=8 in /usr/local/lib/python3.11/dist-packages (from matplotlib) (11.2.1)\n",
            "Requirement already satisfied: pyparsing>=2.3.1 in /usr/local/lib/python3.11/dist-packages (from matplotlib) (3.2.3)\n",
            "Requirement already satisfied: python-dateutil>=2.7 in /usr/local/lib/python3.11/dist-packages (from matplotlib) (2.9.0.post0)\n",
            "Requirement already satisfied: annotated-types>=0.6.0 in /usr/local/lib/python3.11/dist-packages (from pydantic) (0.7.0)\n",
            "Requirement already satisfied: pydantic-core==2.33.2 in /usr/local/lib/python3.11/dist-packages (from pydantic) (2.33.2)\n",
            "Requirement already satisfied: typing-inspection>=0.4.0 in /usr/local/lib/python3.11/dist-packages (from pydantic) (0.4.1)\n",
            "Requirement already satisfied: transformers<5.0.0,>=4.41.0 in /usr/local/lib/python3.11/dist-packages (from sentence_transformers) (4.52.4)\n",
            "Requirement already satisfied: tqdm in /usr/local/lib/python3.11/dist-packages (from sentence_transformers) (4.67.1)\n",
            "Requirement already satisfied: scikit-learn in /usr/local/lib/python3.11/dist-packages (from sentence_transformers) (1.6.1)\n",
            "Requirement already satisfied: scipy in /usr/local/lib/python3.11/dist-packages (from sentence_transformers) (1.15.3)\n",
            "Requirement already satisfied: huggingface-hub>=0.20.0 in /usr/local/lib/python3.11/dist-packages (from sentence_transformers) (0.33.0)\n",
            "Requirement already satisfied: requests in /usr/local/lib/python3.11/dist-packages (from huggingface-hub>=0.20.0->sentence_transformers) (2.32.3)\n",
            "Requirement already satisfied: hf-xet<2.0.0,>=1.1.2 in /usr/local/lib/python3.11/dist-packages (from huggingface-hub>=0.20.0->sentence_transformers) (1.1.3)\n",
            "Requirement already satisfied: six>=1.5 in /usr/local/lib/python3.11/dist-packages (from python-dateutil>=2.7->matplotlib) (1.17.0)\n",
            "Requirement already satisfied: anyio<5,>=3.6.2 in /usr/local/lib/python3.11/dist-packages (from starlette<0.47.0,>=0.40.0->fastapi) (4.9.0)\n",
            "Requirement already satisfied: regex!=2019.12.17 in /usr/local/lib/python3.11/dist-packages (from transformers<5.0.0,>=4.41.0->sentence_transformers) (2024.11.6)\n",
            "Requirement already satisfied: tokenizers<0.22,>=0.21 in /usr/local/lib/python3.11/dist-packages (from transformers<5.0.0,>=4.41.0->sentence_transformers) (0.21.1)\n",
            "Requirement already satisfied: safetensors>=0.4.3 in /usr/local/lib/python3.11/dist-packages (from transformers<5.0.0,>=4.41.0->sentence_transformers) (0.5.3)\n",
            "Requirement already satisfied: MarkupSafe>=2.0 in /usr/local/lib/python3.11/dist-packages (from jinja2->torch) (3.0.2)\n",
            "Requirement already satisfied: joblib>=1.2.0 in /usr/local/lib/python3.11/dist-packages (from scikit-learn->sentence_transformers) (1.5.1)\n",
            "Requirement already satisfied: threadpoolctl>=3.1.0 in /usr/local/lib/python3.11/dist-packages (from scikit-learn->sentence_transformers) (3.6.0)\n",
            "Requirement already satisfied: idna>=2.8 in /usr/local/lib/python3.11/dist-packages (from anyio<5,>=3.6.2->starlette<0.47.0,>=0.40.0->fastapi) (3.10)\n",
            "Requirement already satisfied: sniffio>=1.1 in /usr/local/lib/python3.11/dist-packages (from anyio<5,>=3.6.2->starlette<0.47.0,>=0.40.0->fastapi) (1.3.1)\n",
            "Requirement already satisfied: charset-normalizer<4,>=2 in /usr/local/lib/python3.11/dist-packages (from requests->huggingface-hub>=0.20.0->sentence_transformers) (3.4.2)\n",
            "Requirement already satisfied: urllib3<3,>=1.21.1 in /usr/local/lib/python3.11/dist-packages (from requests->huggingface-hub>=0.20.0->sentence_transformers) (2.4.0)\n",
            "Requirement already satisfied: certifi>=2017.4.17 in /usr/local/lib/python3.11/dist-packages (from requests->huggingface-hub>=0.20.0->sentence_transformers) (2025.4.26)\n"
          ]
        }
      ],
      "source": [
        "# 🔧 STEP 1: Install Required Libraries\n",
        "!pip install fastapi pyngrok uvicorn PyPDF2 torch networkx matplotlib nest_asyncio pydantic sentence_transformers"
      ]
    },
    {
      "cell_type": "code",
      "source": [
        "# 🔧 STEP 2: Import modules and set up FastAPI app\n",
        "from fastapi import FastAPI, File, UploadFile\n",
        "from fastapi.responses import FileResponse\n",
        "from pydantic import BaseModel\n",
        "import PyPDF2\n",
        "import io\n",
        "import torch\n",
        "import torch.nn as nn\n",
        "import networkx as nx\n",
        "import matplotlib.pyplot as plt\n",
        "from pyngrok import ngrok\n",
        "import nest_asyncio\n",
        "import uvicorn\n",
        "\n",
        "app = FastAPI()\n",
        "\n",
        "@app.get(\"/\")\n",
        "def read_root():\n",
        "    return {\"message\": \"🎉 FastAPI is running! Use /upload-pdf, /summarize, /ask, or /mindmap endpoints.\"}\n",
        "\n",
        "@app.get(\"/summarize/\")\n",
        "def summarize():\n",
        "    with open(\"lecture.txt\", \"r\") as f:\n",
        "        text = f.read()\n",
        "\n",
        "    sentences = text.split(\". \")\n",
        "    scored = sorted(sentences, key=lambda s: len(s), reverse=True)\n",
        "    top = scored[:5]  # top 5 longest, basic summarization logic\n",
        "    summary = \". \".join(top)\n",
        "    return {\"summary\": summary}\n",
        "\n"
      ],
      "metadata": {
        "id": "vkB1ijLSriBj"
      },
      "execution_count": 11,
      "outputs": []
    },
    {
      "cell_type": "code",
      "source": [
        "# 🔧 STEP 3: Define a minimal custom Transformer model\n",
        "class SimpleTransformer(nn.Module):\n",
        "    def _init_(self, vocab_size=5000, d_model=64, nhead=4, nlayers=2, dim_feed=128):\n",
        "        super()._init_()\n",
        "        self.embed = nn.Embedding(vocab_size, d_model)\n",
        "        encoder_layer = nn.TransformerEncoderLayer(d_model, nhead, dim_feed)\n",
        "        self.encoder = nn.TransformerEncoder(encoder_layer, nlayers)\n",
        "        decoder_layer = nn.TransformerDecoderLayer(d_model, nhead, dim_feed)\n",
        "        self.decoder = nn.TransformerDecoder(decoder_layer, nlayers)\n",
        "        self.output = nn.Linear(d_model, vocab_size)\n",
        "\n",
        "    def forward(self, src, tgt):\n",
        "        src = self.embed(src)\n",
        "        tgt = self.embed(tgt)\n",
        "        memory = self.encoder(src)\n",
        "        out = self.decoder(tgt, memory)\n",
        "        return self.output(out)\n",
        "\n",
        "model = SimpleTransformer()"
      ],
      "metadata": {
        "id": "0MLzCN7gr7C9"
      },
      "execution_count": 3,
      "outputs": []
    },
    {
      "cell_type": "code",
      "source": [
        "# 🔧 STEP 4: Handle PDF upload and extract text\n",
        "@app.post(\"/upload-pdf/\")\n",
        "async def upload_pdf(file: UploadFile = File(...)):\n",
        "    contents = await file.read()\n",
        "    reader = PyPDF2.PdfReader(io.BytesIO(contents))\n",
        "    text = \"\"\n",
        "    for page in reader.pages:\n",
        "        text += page.extract_text()\n",
        "    with open(\"lecture.txt\", \"w\") as f:\n",
        "        f.write(text)\n",
        "    return {\"message\": \"PDF uploaded and text extracted successfully!\"}"
      ],
      "metadata": {
        "id": "_ChDiWoCsKQl"
      },
      "execution_count": 4,
      "outputs": []
    },
    {
      "cell_type": "code",
      "source": [
        "# 🔧 STEP 5: Basic summarizer using scoring\n",
        "@app.get(\"/summarize/\")\n",
        "def summarize():\n",
        "    with open(\"lecture.txt\", \"r\") as f:\n",
        "        text = f.read()\n",
        "\n",
        "    sentences = text.split(\". \")\n",
        "    scored = sorted(sentences, key=lambda s: len(s), reverse=True)\n",
        "    top = scored[:5]  # top 5 longest, basic summarization logic\n",
        "    summary = \". \".join(top)\n",
        "    return {\"summary\": summary}"
      ],
      "metadata": {
        "id": "HVZ0GjcusWgZ"
      },
      "execution_count": 5,
      "outputs": []
    },
    {
      "cell_type": "code",
      "source": [
        "# 🔧 STEP 6: Simple Q&A using keyword match\n",
        "class Question(BaseModel):\n",
        "    question: str\n",
        "\n",
        "@app.post(\"/ask/\")\n",
        "def ask_qn(q: Question):\n",
        "    with open(\"lecture.txt\", \"r\") as f:\n",
        "        text = f.read().lower()\n",
        "    question = q.question.lower()\n",
        "    words = question.split()\n",
        "    best_line = \"\"\n",
        "    max_overlap = 0\n",
        "    for line in text.split(\".\"):\n",
        "        overlap = len(set(words) & set(line.strip().split()))\n",
        "        if overlap > max_overlap:\n",
        "            best_line = line.strip()\n",
        "            max_overlap = overlap\n",
        "    return {\"answer\": best_line if best_line else \"Sorry, I couldn’t find a relevant answer.\"}"
      ],
      "metadata": {
        "id": "H22JPuD9sf_r"
      },
      "execution_count": 6,
      "outputs": []
    },
    {
      "cell_type": "code",
      "source": [
        "# 🔧 STEP 7: Generate a basic mind map using keyword graph\n",
        "@app.get(\"/mindmap/\")\n",
        "def mind_map():\n",
        "    with open(\"lecture.txt\", \"r\") as f:\n",
        "        text = f.read().lower()\n",
        "\n",
        "    # Extract keywords (simple version)\n",
        "    keywords = [word for word in text.split() if len(word) > 5]\n",
        "    freq = {}\n",
        "    for word in keywords:\n",
        "        freq[word] = freq.get(word, 0) + 1\n",
        "    sorted_words = sorted(freq.items(), key=lambda x: x[1], reverse=True)[:10]\n",
        "\n",
        "    # Create mind map graph\n",
        "    G = nx.Graph()\n",
        "    central = \"Lecture\"\n",
        "    G.add_node(central)\n",
        "    for word, _ in sorted_words:\n",
        "        G.add_node(word)\n",
        "        G.add_edge(central, word)\n",
        "\n",
        "    # Draw mind map\n",
        "    plt.figure(figsize=(8, 6))\n",
        "    pos = nx.spring_layout(G)\n",
        "    nx.draw(G, pos, with_labels=True, node_color='lightblue', edge_color='gray', node_size=2000, font_size=12)\n",
        "    plt.savefig(\"mindmap.png\")\n",
        "\n",
        "    return FileResponse(\"mindmap.png\", media_type=\"image/png\")"
      ],
      "metadata": {
        "id": "SQCSN_oFsv4S"
      },
      "execution_count": 7,
      "outputs": []
    },
    {
      "cell_type": "code",
      "source": [
        "!ngrok config add-authtoken 2ydPoK24vSLZcscOVhhn2XHCQt3_7owGMrLRSrDZhXt8k23Y3\n"
      ],
      "metadata": {
        "colab": {
          "base_uri": "https://localhost:8080/"
        },
        "id": "Ry-lI5j0xe8w",
        "outputId": "9e1871e6-f515-466d-a174-d64e5eb11a93"
      },
      "execution_count": 12,
      "outputs": [
        {
          "output_type": "stream",
          "name": "stdout",
          "text": [
            "Authtoken saved to configuration file: /root/.config/ngrok/ngrok.yml\n"
          ]
        }
      ]
    },
    {
      "cell_type": "code",
      "source": [
        "import nest_asyncio\n",
        "import threading\n",
        "from pyngrok import ngrok\n",
        "import uvicorn\n",
        "\n",
        "nest_asyncio.apply()\n",
        "\n",
        "public_url = ngrok.connect(8000)\n",
        "print(\"🚀 Your public FastAPI URL:\", public_url)\n",
        "\n",
        "def start_server():\n",
        "    uvicorn.run(app, host=\"0.0.0.0\", port=8000)\n",
        "\n",
        "thread = threading.Thread(target=start_server)\n",
        "thread.start()\n"
      ],
      "metadata": {
        "colab": {
          "base_uri": "https://localhost:8080/"
        },
        "id": "hgqKPvBrx2_t",
        "outputId": "ca0f28cb-c779-402f-e78a-8a3421cf5371"
      },
      "execution_count": 13,
      "outputs": [
        {
          "output_type": "stream",
          "name": "stdout",
          "text": [
            "🚀 Your public FastAPI URL: NgrokTunnel: \"https://203a-34-106-244-226.ngrok-free.app\" -> \"http://localhost:8000\"\n"
          ]
        },
        {
          "output_type": "stream",
          "name": "stderr",
          "text": [
            "INFO:     Started server process [10560]\n",
            "INFO:     Waiting for application startup.\n"
          ]
        }
      ]
    },
    {
      "cell_type": "code",
      "source": [
        "# 📌 Step 1: Install necessary libraries\n",
        "!pip install streamlit pyngrok -q\n",
        "\n",
        "# 📌 Step 2: Import libraries\n",
        "from pyngrok import ngrok\n",
        "import streamlit as st\n",
        "import requests\n",
        "\n",
        "# ✅ FIXED: Connect ngrok using the correct format\n",
        "public_url = ngrok.connect(\"http://localhost:8501\")\n",
        "print(\"🔗 Streamlit frontend URL:\", public_url)\n",
        "\n",
        "# 🔗 Your backend URL remains the same\n",
        "BASE_URL = \"https://203a-34-106-244-226.ngrok-free.app\"\n",
        "\n",
        "# 📄 Step 3: Define the frontend app code\n",
        "code = f'''\n",
        "import streamlit as st\n",
        "import requests\n",
        "\n",
        "st.set_page_config(page_title=\"📚 Classroom Summarizer\")\n",
        "\n",
        "st.title(\"📚 Classroom Lecture Summarizer Bot\")\n",
        "\n",
        "uploaded_file = st.file_uploader(\"Upload a lecture PDF\", type=[\"pdf\"])\n",
        "if st.button(\"Upload PDF\") and uploaded_file:\n",
        "    try:\n",
        "        res = requests.post(\"{BASE_URL}/upload-pdf/\", files={{\"file\": uploaded_file}})\n",
        "        st.success(\"✅ PDF uploaded successfully!\")\n",
        "    except Exception as e:\n",
        "        st.error(\"❌ Upload failed: \" + str(e))\n",
        "\n",
        "if st.button(\"📄 Get Summary\"):\n",
        "    try:\n",
        "        res = requests.get(\"{BASE_URL}/summarize/\")\n",
        "        st.info(res.json()[\"summary\"])\n",
        "    except:\n",
        "        st.error(\"❌ Failed to fetch summary.\")\n",
        "\n",
        "st.subheader(\"❓ Ask a Question\")\n",
        "question = st.text_input(\"Type your question here\")\n",
        "if st.button(\"Ask\"):\n",
        "    try:\n",
        "        res = requests.post(\"{BASE_URL}/ask/\", json={{\"question\": question}})\n",
        "        st.success(res.json()[\"answer\"])\n",
        "    except:\n",
        "        st.error(\"❌ Failed to get answer.\")\n",
        "\n",
        "if st.button(\"🧠 Get Mind Map\"):\n",
        "    try:\n",
        "        res = requests.get(\"{BASE_URL}/mindmap/\", stream=True)\n",
        "        if res.status_code == 200:\n",
        "            st.image(res.content)\n",
        "        else:\n",
        "            st.error(\"❌ Could not fetch mind map.\")\n",
        "    except:\n",
        "        st.error(\"❌ Mind map fetch failed.\")\n",
        "'''\n",
        "\n",
        "# 📌 Step 4: Save the code to app.py\n",
        "with open(\"app.py\", \"w\") as f:\n",
        "    f.write(code)\n",
        "\n",
        "# 📌 Step 5: Run the Streamlit app\n",
        "!streamlit run app.py &\n"
      ],
      "metadata": {
        "colab": {
          "base_uri": "https://localhost:8080/"
        },
        "id": "T6cQnukQLi2q",
        "outputId": "a41eb103-c4d3-4fb0-8088-35e3a50fd218"
      },
      "execution_count": null,
      "outputs": [
        {
          "output_type": "stream",
          "name": "stdout",
          "text": [
            "🔗 Streamlit frontend URL: NgrokTunnel: \"https://e9fe-34-106-244-226.ngrok-free.app\" -> \"http://localhost:8501\"\n",
            "\n",
            "Collecting usage statistics. To deactivate, set browser.gatherUsageStats to false.\n",
            "\u001b[0m\n",
            "\u001b[0m\n",
            "\u001b[34m\u001b[1m  You can now view your Streamlit app in your browser.\u001b[0m\n",
            "\u001b[0m\n",
            "\u001b[34m  Local URL: \u001b[0m\u001b[1mhttp://localhost:8501\u001b[0m\n",
            "\u001b[34m  Network URL: \u001b[0m\u001b[1mhttp://172.28.0.12:8501\u001b[0m\n",
            "\u001b[34m  External URL: \u001b[0m\u001b[1mhttp://34.106.244.226:8501\u001b[0m\n",
            "\u001b[0m\n",
            "INFO:     34.106.244.226:0 - \"POST /upload-pdf/ HTTP/1.1\" 200 OK\n",
            "INFO:     34.106.244.226:0 - \"GET /summarize/ HTTP/1.1\" 200 OK\n",
            "INFO:     34.106.244.226:0 - \"GET /mindmap/ HTTP/1.1\" 200 OK\n",
            "INFO:     34.106.244.226:0 - \"GET /summarize/ HTTP/1.1\" 200 OK\n",
            "INFO:     34.106.244.226:0 - \"GET /mindmap/ HTTP/1.1\" 200 OK\n",
            "INFO:     34.106.244.226:0 - \"POST /upload-pdf/ HTTP/1.1\" 200 OK\n",
            "INFO:     34.106.244.226:0 - \"GET /summarize/ HTTP/1.1\" 200 OK\n",
            "INFO:     34.106.244.226:0 - \"GET /mindmap/ HTTP/1.1\" 200 OK\n"
          ]
        }
      ]
    }
  ]
}